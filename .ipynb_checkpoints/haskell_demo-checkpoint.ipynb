{
 "cells": [
  {
   "cell_type": "markdown",
   "metadata": {},
   "source": [
    "# Haskell in Jupyter Notebook Demo\n",
    "\n",
    "Welcome to your first Haskell notebook! This demonstrates how to use Haskell code in Jupyter notebooks.\n",
    "\n",
    "Make sure you've selected the **Haskell** kernel from the Kernel menu."
   ]
  },
  {
   "cell_type": "code",
   "execution_count": null,
   "metadata": {},
   "outputs": [
    {
     "data": {
      "text/plain": [
       "14"
      ]
     },
     "metadata": {},
     "output_type": "display_data"
    }
   ],
   "source": [
    "-- Basic Haskell expressions\n",
    "print (2 + 3 * 4)"
   ]
  },
  {
   "cell_type": "code",
   "execution_count": null,
   "metadata": {},
   "outputs": [
    {
     "data": {
      "text/plain": [
       "factorial 5 = 120"
      ]
     },
     "metadata": {},
     "output_type": "display_data"
    }
   ],
   "source": [
    "-- Function definitions\n",
    "factorial :: Integer -> Integer\n",
    "factorial 0 = 1\n",
    "factorial n = n * factorial (n - 1)\n",
    "\n",
    "putStrLn $ \"factorial 5 = \" ++ show (factorial 5)"
   ]
  },
  {
   "cell_type": "code",
   "execution_count": null,
   "metadata": {},
   "outputs": [],
   "source": [
    "-- List comprehensions\n",
    "let squares = [x^2 | x <- [1..10], even x]\n",
    "putStrLn $ \"Even squares from 1-10: \" ++ show squares"
   ]
  },
  {
   "cell_type": "code",
   "execution_count": null,
   "metadata": {},
   "outputs": [],
   "source": [
    "-- Working with your NeSy framework\n",
    "-- You can import and use your Haskell NeSy code here\n",
    "\n",
    "-- Example: Basic boolean logic\n",
    "putStrLn $ \"True && False = \" ++ show (True && False)\n",
    "putStrLn $ \"True || False = \" ++ show (True || False)\n",
    "putStrLn $ \"not True = \" ++ show (not True)"
   ]
  },
  {
   "cell_type": "code",
   "execution_count": null,
   "metadata": {},
   "outputs": [],
   "source": [
    "-- Define a simple NeSy-style logic framework\n",
    "data TruthValue = T | F deriving (Show, Eq)\n",
    "\n",
    "-- Boolean operations for our logic\n",
    "tAnd :: TruthValue -> TruthValue -> TruthValue\n",
    "tAnd T T = T\n",
    "tAnd _ _ = F\n",
    "\n",
    "tOr :: TruthValue -> TruthValue -> TruthValue\n",
    "tOr F F = F\n",
    "tOr _ _ = T\n",
    "\n",
    "tNot :: TruthValue -> TruthValue\n",
    "tNot T = F\n",
    "tNot F = T\n",
    "\n",
    "-- Test our custom logic operations\n",
    "let result1 = tAnd T F\n",
    "let result2 = tOr T F  \n",
    "let result3 = tNot T\n",
    "\n",
    "putStrLn $ \"Custom Logic Results:\"\n",
    "putStrLn $ \"T AND F = \" ++ show result1\n",
    "putStrLn $ \"T OR F = \" ++ show result2\n",
    "putStrLn $ \"NOT T = \" ++ show result3\n"
   ]
  },
  {
   "cell_type": "code",
   "execution_count": null,
   "metadata": {},
   "outputs": [],
   "source": [
    "-- Probabilistic Logic for NeSy\n",
    "type Probability = Double\n",
    "\n",
    "-- Ensure probability is between 0 and 1\n",
    "mkProb :: Double -> Maybe Probability\n",
    "mkProb p | p >= 0 && p <= 1 = Just p\n",
    "         | otherwise = Nothing\n",
    "\n",
    "-- Probabilistic AND (independent events)\n",
    "probAnd :: Probability -> Probability -> Probability\n",
    "probAnd p1 p2 = p1 * p2\n",
    "\n",
    "-- Probabilistic OR (independent events) \n",
    "probOr :: Probability -> Probability -> Probability\n",
    "probOr p1 p2 = p1 + p2 - (p1 * p2)\n",
    "\n",
    "-- Probabilistic NOT\n",
    "probNot :: Probability -> Probability\n",
    "probNot p = 1 - p\n",
    "\n",
    "-- Weather prediction example\n",
    "let rainProb = 0.3      -- 30% chance of rain\n",
    "let cloudyProb = 0.7    -- 70% chance of clouds\n",
    "\n",
    "let rainAndCloudy = probAnd rainProb cloudyProb\n",
    "let rainOrCloudy = probOr rainProb cloudyProb  \n",
    "let noRain = probNot rainProb\n",
    "\n",
    "putStrLn \"Probabilistic Weather Reasoning:\"\n",
    "putStrLn $ \"P(Rain AND Cloudy) = \" ++ show rainAndCloudy\n",
    "putStrLn $ \"P(Rain OR Cloudy) = \" ++ show rainOrCloudy\n",
    "putStrLn $ \"P(No Rain) = \" ++ show noRain\n"
   ]
  },
  {
   "cell_type": "code",
   "execution_count": null,
   "metadata": {},
   "outputs": [],
   "source": [
    "-- Predicate Logic for NeSy Framework\n",
    "data Variable = Var String deriving (Show, Eq)\n",
    "data Predicate = Pred String [Variable] deriving (Show, Eq)\n",
    "\n",
    "-- Define some variables and predicates\n",
    "let x = Var \"x\"\n",
    "let y = Var \"y\"  \n",
    "let rainy = Pred \"rainy\" [x]\n",
    "let cloudy = Pred \"cloudy\" [x]\n",
    "let wet = Pred \"wet\" [x, y]\n",
    "\n",
    "putStrLn \"Predicate Logic Examples:\"\n",
    "putStrLn $ \"Variable x: \" ++ show x\n",
    "putStrLn $ \"Predicate rainy(x): \" ++ show rainy  \n",
    "putStrLn $ \"Predicate cloudy(x): \" ++ show cloudy\n",
    "putStrLn $ \"Predicate wet(x,y): \" ++ show wet\n"
   ]
  }
 ],
 "metadata": {
  "kernelspec": {
   "display_name": "Haskell",
   "language": "haskell",
   "name": "haskell"
  },
  "language_info": {
   "codemirror_mode": "ihaskell",
   "file_extension": ".hs",
   "mimetype": "text/x-haskell",
   "name": "haskell",
   "pygments_lexer": "Haskell",
   "version": "9.6.5"
  }
 },
 "nbformat": 4,
 "nbformat_minor": 4
}
