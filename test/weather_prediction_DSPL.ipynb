{
 "cells": [
  {
   "cell_type": "markdown",
   "metadata": {},
   "source": [
    "# Weather Prediction with Giry Monad - mULLER Paper Implementation\n",
    "\n",
    "This notebook implements the weather prediction example from the mULLER paper, demonstrating proper monadic composition for neuro-symbolic reasoning."
   ]
  },
  {
   "cell_type": "markdown",
   "metadata": {},
   "source": [
    "## Setup and Imports"
   ]
  },
  {
   "cell_type": "code",
   "execution_count": 1,
   "metadata": {},
   "outputs": [
    {
     "name": "stdout",
     "output_type": "stream",
     "text": [
      "All imports successful!\n",
      "NumPy version: 2.3.2\n"
     ]
    }
   ],
   "source": [
    "import numpy as np\n",
    "import matplotlib.pyplot as plt\n",
    "import random\n",
    "import math\n",
    "from scipy.stats import norm\n",
    "from scipy.integrate import quad\n",
    "\n",
    "from muller.monad.giry import (\n",
    "    GiryMonad,\n",
    "    binomial,\n",
    "    fromDensityFunction,\n",
    "    integrate\n",
    ")\n",
    "\n",
    "print(\"All imports successful!\")\n",
    "print(f\"NumPy version: {np.__version__}\")"
   ]
  },
  {
   "cell_type": "code",
   "execution_count": 2,
   "metadata": {},
   "outputs": [
    {
     "name": "stdout",
     "output_type": "stream",
     "text": [
      "NeSy framework imported.\n"
     ]
    }
   ],
   "source": [
    "# mULLER NeSy framework imports (per README usage)\n",
    "from muller.nesy_framework import (\n",
    "    nesy_for_logic,\n",
    "    Interpretation,\n",
    "    Variable,\n",
    "    Predicate,\n",
    "    UniversalQuantification,\n",
    "    ExistentialQuantification,\n",
    ")\n",
    "print(\"NeSy framework imported.\")\n"
   ]
  },
  {
   "cell_type": "code",
   "execution_count": 3,
   "metadata": {},
   "outputs": [
    {
     "name": "stdout",
     "output_type": "stream",
     "text": [
      "ProductAlgebraLogic ready (reloaded).\n"
     ]
    }
   ],
   "source": [
    "import importlib\n",
    "import muller.logics.product_algebra as product_algebra\n",
    "importlib.reload(product_algebra)\n",
    "from muller.logics.product_algebra import ProductAlgebraLogic\n",
    "from muller.monad.identity import Identity\n",
    "print(\"ProductAlgebraLogic ready (reloaded).\")\n"
   ]
  },
  {
   "cell_type": "markdown",
   "metadata": {},
   "source": [
    "## Neural Network Predictors\n",
    "\n",
    "These functions simulate neural networks that output parameters for probability distributions.\n"
   ]
  },
  {
   "cell_type": "code",
   "execution_count": 4,
   "metadata": {},
   "outputs": [
    {
     "name": "stdout",
     "output_type": "stream",
     "text": [
      "Testing Neural Network Predictors:\n",
      "========================================\n",
      "World: sunny_day\n",
      "  Humidity prob: 0.442\n",
      "  Temperature: N(31.92, 3.13²)\n",
      "\n",
      "World: cloudy_day\n",
      "  Humidity prob: 0.269\n",
      "  Temperature: N(0.99, 9.61²)\n",
      "\n",
      "World: winter_scene\n",
      "  Humidity prob: 0.840\n",
      "  Temperature: N(18.30, 9.15²)\n",
      "\n"
     ]
    }
   ],
   "source": [
    "# Set random seed for reproducibility\n",
    "random.seed(42)\n",
    "np.random.seed(42)\n",
    "\n",
    "def humid_detector(world_data):\n",
    "    \"\"\"\n",
    "    Simulates a humidity detector that outputs parameters for a Bernoulli distribution.\n",
    "    \n",
    "    Args:\n",
    "        world_data: Input data representing world state\n",
    "        \n",
    "    Returns:\n",
    "        float: probability parameter p for Bernoulli(p) distribution\n",
    "    \"\"\"\n",
    "    # Simulate neural network output - deterministic given world_data\n",
    "    hash_val = hash(str(world_data)) % 1000000\n",
    "    random.seed(hash_val)\n",
    "    \n",
    "    # Generate a probability between 0.1 and 0.9\n",
    "    p = 0.1 + 0.8 * random.random()\n",
    "    return p\n",
    "\n",
    "def temperature_predictor(world_data):\n",
    "    \"\"\"\n",
    "    Simulates a temperature predictor that outputs parameters for a Normal distribution.\n",
    "    \n",
    "    Args:\n",
    "        world_data: Input data representing world state\n",
    "        \n",
    "    Returns:\n",
    "        tuple: (mu, sigma) parameters for Normal(mu, sigma^2) distribution\n",
    "    \"\"\"\n",
    "    # Simulate neural network output\n",
    "    hash_val = hash(str(world_data)) % 1000000\n",
    "    random.seed(hash_val + 12345)  # Different seed for temperature\n",
    "    \n",
    "    # Generate realistic temperature parameters\n",
    "    mu = -10 + 50 * random.random()  # Temperature mean between -10 and 40°C\n",
    "    sigma = 1 + 9 * random.random()  # Standard deviation between 1 and 10°C\n",
    "    \n",
    "    return mu, sigma\n",
    "\n",
    "# Test the predictors\n",
    "print(\"Testing Neural Network Predictors:\")\n",
    "print(\"=\" * 40)\n",
    "\n",
    "world_examples = [\"sunny_day\", \"cloudy_day\", \"winter_scene\"]\n",
    "\n",
    "for world in world_examples:\n",
    "    p = humid_detector(world)\n",
    "    mu, sigma = temperature_predictor(world)\n",
    "    \n",
    "    print(f\"World: {world}\")\n",
    "    print(f\"  Humidity prob: {p:.3f}\")\n",
    "    print(f\"  Temperature: N({mu:.2f}, {sigma:.2f}²)\")\n",
    "    print()\n"
   ]
  },
  {
   "cell_type": "markdown",
   "metadata": {},
   "source": [
    "## Proper Monadic Implementation\n",
    "\n",
    "**The key insight**: The Giry monad's `bind` operation automatically handles the probabilistic integration.\n",
    "\n",
    "#### Proper Monadic Approach:\n",
    "```python\n",
    "result = h_dist.bind(lambda h: \n",
    "           t_dist.bind(lambda t: \n",
    "             GiryMonad.unit(condition(h, t))))\n",
    "```\n",
    "\n",
    "The `bind` operations automatically:\n",
    "1. **Sample from the first distribution** (humidity)\n",
    "2. **For each sample, run the inner computation** (temperature)  \n",
    "3. **Integrate over all possibilities** using measure theory\n",
    "4. **Return the combined result** as a new measure\n"
   ]
  },
  {
   "cell_type": "code",
   "execution_count": 5,
   "metadata": {},
   "outputs": [],
   "source": [
    "def is_good_weather(humidity, temperature):\n",
    "    \"\"\"\n",
    "    Weather condition from the mULLER paper:\n",
    "    (h = 1 ∧ t < 0) ∨ (h = 0 ∧ t > 15)\n",
    "    \n",
    "    Args:\n",
    "        humidity: 0 or 1 (low or high humidity)\n",
    "        temperature: temperature value in Celsius\n",
    "        \n",
    "    Returns:\n",
    "        bool: True if weather is considered \"good\"\n",
    "    \"\"\"\n",
    "    return (humidity == 1 and temperature < 0) or (humidity == 0 and temperature > 15)\n",
    "\n",
    "def good_weather_query(world):\n",
    "    \"\"\"\n",
    "    Implements the good_weather query using clean monadic composition.\n",
    "    \n",
    "    From the mULLER paper:\n",
    "    h := bernoulli(humid_detector(World))\n",
    "        t := normal(temperature_predictor(World))\n",
    "            (h = 1 ∧ t < 0) ∨ (h = 0 ∧ t > 15)\n",
    "    \"\"\"\n",
    "    humidity_p = humid_detector(world)\n",
    "    temp_mu, temp_sigma = temperature_predictor(world)\n",
    "    \n",
    "    # Create distributions\n",
    "    humidity_dist = binomial(1, humidity_p)\n",
    "    temperature_dist = fromDensityFunction(\n",
    "        lambda x: norm.pdf(x, temp_mu, temp_sigma)\n",
    "    )\n",
    "    \n",
    "    # The monadic computation: humidity >>= (λh -> temperature >>= (λt -> unit(condition(h,t))))\n",
    "    return humidity_dist.bind(\n",
    "        lambda h: temperature_dist.bind(\n",
    "            lambda t: GiryMonad.unit(\n",
    "                1.0 if is_good_weather(h, t) else 0.0\n",
    "            )\n",
    "        )\n",
    "    )\n"
   ]
  },
  {
   "cell_type": "markdown",
   "metadata": {},
   "source": [
    "## Test the Monadic Implementation\n"
   ]
  },
  {
   "cell_type": "code",
   "execution_count": 6,
   "metadata": {},
   "outputs": [
    {
     "name": "stdout",
     "output_type": "stream",
     "text": [
      "MONADIC WEATHER PREDICTION\n",
      "==================================================\n",
      "The monadic approach:\n",
      "  result = humidity_dist.bind(λh -> temperature_dist.bind(λt -> unit(condition(h,t))))\n",
      "This automatically handles all the probabilistic integration!\n",
      "\n",
      "=============== WORLD: beach_day ===============\n",
      "Neural predictions: h~Bernoulli(0.700), t~N(2.6,2.7²)\n",
      "P(good_weather) = 0.118297\n",
      "Theoretical:    0.118297\n",
      "Difference:     5.44e-07\n",
      "\n",
      "=============== WORLD: mountain_winter ===============\n",
      "Neural predictions: h~Bernoulli(0.529), t~N(2.2,7.6²)\n",
      "P(good_weather) = 0.226467\n",
      "Theoretical:    0.226467\n",
      "Difference:     0.00e+00\n",
      "\n",
      "=============== WORLD: desert_noon ===============\n",
      "Neural predictions: h~Bernoulli(0.726), t~N(33.1,4.0²)\n",
      "P(good_weather) = 0.274264\n",
      "Theoretical:    0.274264\n",
      "Difference:     1.33e-15\n",
      "\n",
      "Perfect agreement! The Giry monad handles the complex integration automatically!\n"
     ]
    }
   ],
   "source": [
    "# Test the monadic weather prediction\n",
    "print(\"MONADIC WEATHER PREDICTION\")\n",
    "print(\"=\" * 50)\n",
    "\n",
    "test_worlds = [\"beach_day\", \"mountain_winter\", \"desert_noon\"]\n",
    "\n",
    "print(\"The monadic approach:\")\n",
    "print(\"  result = humidity_dist.bind(λh -> temperature_dist.bind(λt -> unit(condition(h,t))))\")\n",
    "print(\"This automatically handles all the probabilistic integration!\\n\")\n",
    "\n",
    "results = {}\n",
    "for world in test_worlds:\n",
    "    print(f\"{'='*15} WORLD: {world} {'='*15}\")\n",
    "    \n",
    "    # Test the clean monadic version \n",
    "    weather_dist = good_weather_query(world)\n",
    "    prob_good_weather = integrate(lambda x: x, weather_dist.value)\n",
    "    results[world] = prob_good_weather\n",
    "    \n",
    "    # Show what's happening\n",
    "    humidity_p = humid_detector(world)\n",
    "    temp_mu, temp_sigma = temperature_predictor(world)\n",
    "    print(f\"Neural predictions: h~Bernoulli({humidity_p:.3f}), t~N({temp_mu:.1f},{temp_sigma:.1f}²)\")\n",
    "    print(f\"P(good_weather) = {prob_good_weather:.6f}\")\n",
    "    \n",
    "    # Show the theoretical calculation for comparison\n",
    "    prob_temp_less_0 = norm.cdf((0 - temp_mu) / temp_sigma)\n",
    "    prob_temp_greater_15 = 1 - norm.cdf((15 - temp_mu) / temp_sigma)\n",
    "    theoretical = humidity_p * prob_temp_less_0 + (1 - humidity_p) * prob_temp_greater_15\n",
    "    \n",
    "    print(f\"Theoretical:    {theoretical:.6f}\")\n",
    "    print(f\"Difference:     {abs(prob_good_weather - theoretical):.2e}\")\n",
    "    print()\n",
    "\n",
    "print(\"Perfect agreement! The Giry monad handles the complex integration automatically!\")\n"
   ]
  },
  {
   "cell_type": "markdown",
   "metadata": {},
   "source": [
    "## Summary: Monadic Weather Prediction\n",
    "\n",
    "This focused implementation demonstrates the key aspects of the mULLER framework:\n",
    "\n",
    "### **What We've Implemented:**\n",
    "\n",
    "1. **Neural Network Simulators**: `humidity` and `temperature` as computational functions given the parameters `p` and `\\mu, \\sigma` respectively\n",
    "2. **Proper Monadic Composition**: Using `bind` operations for sequential probabilistic computation\n",
    "3. **Perfect Accuracy**: Monadic results match theory to machine precision\n",
    "\n",
    "### **Key Monadic Insights:**\n",
    "\n",
    "- **Sequential Composition**: `bind` chains computations where later steps depend on earlier results\n",
    "- **Automatic Integration**: The monad handles measure-theoretic integration automatically  \n",
    "- **Clean Code**: The monadic pattern produces readable, composable code\n",
    "\n",
    "### **The Pattern:**\n",
    "\n",
    "```python\n",
    "result = humidity_dist.bind(\n",
    "    lambda h: temperature_dist.bind(\n",
    "        lambda t: GiryMonad.unit(condition(h, t))\n",
    "    )\n",
    ")\n",
    "```\n",
    "\n",
    "**This demonstrates that the Giry monad provides a practical, mathematically sound foundation for neuro-symbolic reasoning as described in the mULLER paper.**\n"
   ]
  },
  {
   "cell_type": "markdown",
   "metadata": {},
   "source": [
    "## Examples via NeSy framework (Product Algebra only)\n",
    "\n",
    "We formulate the three examples using mULLER's NeSy API: we create an `Interpretation` and evaluate quantified formulas with `ProductAlgebraLogic`.\n"
   ]
  },
  {
   "cell_type": "code",
   "execution_count": 7,
   "metadata": {},
   "outputs": [
    {
     "name": "stdout",
     "output_type": "stream",
     "text": [
      "NeSy framework and base interpretation prepared.\n"
     ]
    }
   ],
   "source": [
    "# Build the NeSy framework with Product Algebra logic\n",
    "from muller.logics.giry_product_algebra import GiryProductAlgebraLogic\n",
    "logic = GiryProductAlgebraLogic()\n",
    "framework = nesy_for_logic(logic)\n",
    "\n",
    "# Prepare universes\n",
    "WeatherStations = [\"station_A\", \"station_B\", \"station_C\", \"station_faulty\"]\n",
    "Regions = [\"north_region\", \"south_region\", \"east_region\", \"west_region\"]\n",
    "TimeSlots = list(range(24))\n",
    "\n",
    "# Deterministic functions\n",
    "functions = {\n",
    "    \"id\": lambda x: x,\n",
    "}\n",
    "\n",
    "# No mfunctions needed here; we encapsulate stochasticity inside mpreds via good_weather_query\n",
    "mfunctions = {}\n",
    "\n",
    "# Monadic predicates returning GiryMonad[float] directly from a world/time\n",
    "mpreds = {\n",
    "    \"good_weather_world\": lambda w: good_weather_query(w),\n",
    "    \"good_weather_at_time\": lambda t: good_weather_query(f\"city_center_t{t}\"),\n",
    "}\n",
    "\n",
    "preds = {}\n",
    "\n",
    "# Base interpretation (we'll reuse with different universes below)\n",
    "base_interpretation = Interpretation(\n",
    "    universe=[],  # to be filled per example\n",
    "    functions=functions,\n",
    "    mfunctions=mfunctions,\n",
    "    preds=preds,\n",
    "    mpreds=mpreds,\n",
    ")\n",
    "\n",
    "print(\"NeSy framework and base interpretation prepared.\")\n"
   ]
  },
  {
   "cell_type": "code",
   "execution_count": 8,
   "metadata": {},
   "outputs": [
    {
     "name": "stdout",
     "output_type": "stream",
     "text": [
      "Data sets defined: WeatherStations, Regions, TimeSlots\n",
      "\n",
      "All stations (universal ∀ over s):\n",
      "  station_A: 0.123381\n",
      "  station_B: 0.099425\n",
      "  station_C: 0.213807\n",
      "  station_faulty: 0.180143\n",
      "  Result (product over s): 0.000472\n",
      "\n",
      "Exists a region (∃ r):\n",
      "  north_region: 0.000000\n",
      "  south_region: 0.648748\n",
      "  east_region: 0.361036\n",
      "  west_region: 0.179134\n",
      "  Result (prob. sum over r): 0.815767\n",
      "\n",
      "Always over time (∀ t in TimeSlots):\n",
      "  t=00: 0.544306\n",
      "  t=01: 0.511346\n",
      "  t=02: 0.244035\n",
      "  t=03: 0.204636\n",
      "  t=04: 0.751626\n",
      "  t=05: 0.101543\n",
      "  t=06: 0.444119\n",
      "  t=07: 0.567196\n",
      "  t=08: 0.012488\n",
      "  t=09: 0.263122\n",
      "  t=10: 0.323405\n",
      "  t=11: 0.173455\n",
      "  t=12: 0.375323\n",
      "  t=13: 0.835532\n",
      "  t=14: 0.067485\n",
      "  t=15: 0.230170\n",
      "  t=16: 0.081696\n",
      "  t=17: 0.142510\n",
      "  t=18: 0.153312\n",
      "  t=19: 0.013732\n",
      "  t=20: 0.126165\n",
      "  t=21: 0.442757\n",
      "  t=22: 0.125738\n",
      "  t=23: 0.202730\n",
      "  Result (product over t): 0.000000\n"
     ]
    }
   ],
   "source": [
    "# Use the NeSy setup and logic (GiryProductAlgebraLogic) defined earlier\n",
    "\n",
    "def prob_good_weather_world(world: str) -> float:\n",
    "    dist = good_weather_query(world)\n",
    "    return integrate(lambda x: x, dist.value)\n",
    "\n",
    "WeatherStations = [\"station_A\", \"station_B\", \"station_C\", \"station_faulty\"]\n",
    "Regions = [\"north_region\", \"south_region\", \"east_region\", \"west_region\"]\n",
    "TimeSlots = list(range(24))\n",
    "\n",
    "def world_at_time(base_world: str, t: int) -> str:\n",
    "    return f\"{base_world}_t{t}\"\n",
    "\n",
    "print(\"Data sets defined: WeatherStations, Regions, TimeSlots\")\n",
    "\n",
    "# 1) ∀ stations: fold via product algebra conjunction\n",
    "station_probs = [prob_good_weather_world(s) for s in WeatherStations]\n",
    "all_stations_universal = logic.universal(station_probs)\n",
    "\n",
    "print(\"\\nAll stations (universal ∀ over s):\")\n",
    "for s, p in zip(WeatherStations, station_probs):\n",
    "    print(f\"  {s}: {p:.6f}\")\n",
    "print(f\"  Result (product over s): {all_stations_universal:.6f}\")\n",
    "\n",
    "# 2) ∃ region: fold via product algebra disjunction (probabilistic sum)\n",
    "region_probs = [prob_good_weather_world(r) for r in Regions]\n",
    "exists_region = logic.existential(region_probs)\n",
    "\n",
    "print(\"\\nExists a region (∃ r):\")\n",
    "for r, p in zip(Regions, region_probs):\n",
    "    print(f\"  {r}: {p:.6f}\")\n",
    "print(f\"  Result (prob. sum over r): {exists_region:.6f}\")\n",
    "\n",
    "# 3) ∀ time slots: fold via product algebra conjunction\n",
    "base_world = \"city_center\"\n",
    "time_probs = [prob_good_weather_world(world_at_time(base_world, t)) for t in TimeSlots]\n",
    "always_over_time = logic.universal(time_probs)\n",
    "\n",
    "print(\"\\nAlways over time (∀ t in TimeSlots):\")\n",
    "for t, p in zip(TimeSlots, time_probs):\n",
    "    print(f\"  t={t:02d}: {p:.6f}\")\n",
    "print(f\"  Result (product over t): {always_over_time:.6f}\")"
   ]
  }
 ],
 "metadata": {
  "kernelspec": {
   "display_name": ".venv",
   "language": "python",
   "name": "python3"
  },
  "language_info": {
   "codemirror_mode": {
    "name": "ipython",
    "version": 3
   },
   "file_extension": ".py",
   "mimetype": "text/x-python",
   "name": "python",
   "nbconvert_exporter": "python",
   "pygments_lexer": "ipython3",
   "version": "3.13.5"
  }
 },
 "nbformat": 4,
 "nbformat_minor": 4
}
