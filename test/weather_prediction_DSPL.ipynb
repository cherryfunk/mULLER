{
 "cells": [
  {
   "cell_type": "markdown",
   "metadata": {},
   "source": [
    "# Weather Prediction with Giry Monad - mULLER Paper Implementation\n",
    "\n",
    "This notebook implements the weather prediction example from the mULLER paper, demonstrating proper monadic composition for neuro-symbolic reasoning."
   ]
  },
  {
   "cell_type": "markdown",
   "metadata": {},
   "source": [
    "## Setup and Imports"
   ]
  },
  {
   "cell_type": "code",
   "execution_count": 1,
   "metadata": {},
   "outputs": [
    {
     "name": "stdout",
     "output_type": "stream",
     "text": [
      "✅ All imports successful!\n",
      "NumPy version: 2.3.2\n"
     ]
    }
   ],
   "source": [
    "import numpy as np\n",
    "import matplotlib.pyplot as plt\n",
    "import random\n",
    "import math\n",
    "from scipy.stats import norm\n",
    "\n",
    "from muller.monad.giry import (\n",
    "    GiryMonad,\n",
    "    binomial,\n",
    "    fromDensityFunction,\n",
    "    integrate\n",
    ")\n",
    "\n",
    "print(\"✅ All imports successful!\")\n",
    "print(f\"NumPy version: {np.__version__}\")"
   ]
  },
  {
   "cell_type": "markdown",
   "metadata": {},
   "source": [
    "## Neural Network Predictors\n",
    "\n",
    "These functions simulate neural networks that output parameters for probability distributions.\n"
   ]
  },
  {
   "cell_type": "code",
   "execution_count": 2,
   "metadata": {},
   "outputs": [
    {
     "name": "stdout",
     "output_type": "stream",
     "text": [
      "Testing Neural Network Predictors:\n",
      "========================================\n",
      "World: sunny_day\n",
      "  Humidity prob: 0.253\n",
      "  Temperature: N(16.16, 3.19²)\n",
      "\n",
      "World: cloudy_day\n",
      "  Humidity prob: 0.763\n",
      "  Temperature: N(20.50, 2.94²)\n",
      "\n",
      "World: winter_scene\n",
      "  Humidity prob: 0.573\n",
      "  Temperature: N(18.28, 5.96²)\n",
      "\n"
     ]
    }
   ],
   "source": [
    "# Set random seed for reproducibility\n",
    "random.seed(42)\n",
    "np.random.seed(42)\n",
    "\n",
    "def humid_detector(world_data):\n",
    "    \"\"\"\n",
    "    Simulates a humidity detector that outputs parameters for a Bernoulli distribution.\n",
    "    \n",
    "    Args:\n",
    "        world_data: Input data representing world state\n",
    "        \n",
    "    Returns:\n",
    "        float: probability parameter p for Bernoulli(p) distribution\n",
    "    \"\"\"\n",
    "    # Simulate neural network output - deterministic given world_data\n",
    "    hash_val = hash(str(world_data)) % 1000000\n",
    "    random.seed(hash_val)\n",
    "    \n",
    "    # Generate a probability between 0.1 and 0.9\n",
    "    p = 0.1 + 0.8 * random.random()\n",
    "    return p\n",
    "\n",
    "def temperature_predictor(world_data):\n",
    "    \"\"\"\n",
    "    Simulates a temperature predictor that outputs parameters for a Normal distribution.\n",
    "    \n",
    "    Args:\n",
    "        world_data: Input data representing world state\n",
    "        \n",
    "    Returns:\n",
    "        tuple: (mu, sigma) parameters for Normal(mu, sigma^2) distribution\n",
    "    \"\"\"\n",
    "    # Simulate neural network output\n",
    "    hash_val = hash(str(world_data)) % 1000000\n",
    "    random.seed(hash_val + 12345)  # Different seed for temperature\n",
    "    \n",
    "    # Generate realistic temperature parameters\n",
    "    mu = -10 + 50 * random.random()  # Temperature mean between -10 and 40°C\n",
    "    sigma = 1 + 9 * random.random()  # Standard deviation between 1 and 10°C\n",
    "    \n",
    "    return mu, sigma\n",
    "\n",
    "# Test the predictors\n",
    "print(\"Testing Neural Network Predictors:\")\n",
    "print(\"=\" * 40)\n",
    "\n",
    "world_examples = [\"sunny_day\", \"cloudy_day\", \"winter_scene\"]\n",
    "\n",
    "for world in world_examples:\n",
    "    p = humid_detector(world)\n",
    "    mu, sigma = temperature_predictor(world)\n",
    "    \n",
    "    print(f\"World: {world}\")\n",
    "    print(f\"  Humidity prob: {p:.3f}\")\n",
    "    print(f\"  Temperature: N({mu:.2f}, {sigma:.2f}²)\")\n",
    "    print()\n"
   ]
  },
  {
   "cell_type": "markdown",
   "metadata": {},
   "source": [
    "## Proper Monadic Implementation\n",
    "\n",
    "**The key insight**: The Giry monad's `bind` operation automatically handles the probabilistic integration.\n",
    "\n",
    "#### Proper Monadic Approach ✅  \n",
    "```python\n",
    "# This IS the monadic way:\n",
    "result = h_dist.bind(lambda h: \n",
    "           t_dist.bind(lambda t: \n",
    "             GiryMonad.unit(condition(h, t))))\n",
    "```\n",
    "\n",
    "The `bind` operations automatically:\n",
    "1. **Sample from the first distribution** (humidity)\n",
    "2. **For each sample, run the inner computation** (temperature)  \n",
    "3. **Integrate over all possibilities** using measure theory\n",
    "4. **Return the combined result** as a new measure\n"
   ]
  },
  {
   "cell_type": "code",
   "execution_count": 3,
   "metadata": {},
   "outputs": [],
   "source": [
    "def is_good_weather(humidity, temperature):\n",
    "    \"\"\"\n",
    "    Weather condition from the mULLER paper:\n",
    "    (h = 1 ∧ t < 0) ∨ (h = 0 ∧ t > 15)\n",
    "    \n",
    "    Args:\n",
    "        humidity: 0 or 1 (low or high humidity)\n",
    "        temperature: temperature value in Celsius\n",
    "        \n",
    "    Returns:\n",
    "        bool: True if weather is considered \"good\"\n",
    "    \"\"\"\n",
    "    return (humidity == 1 and temperature < 0) or (humidity == 0 and temperature > 15)\n",
    "\n",
    "def good_weather_query(world):\n",
    "    \"\"\"\n",
    "    Implements the good_weather query using clean monadic composition.\n",
    "    \n",
    "    From the mULLER paper:\n",
    "    h := bernoulli(humid_detector(World))\n",
    "        t := normal(temperature_predictor(World))\n",
    "            (h = 1 ∧ t < 0) ∨ (h = 0 ∧ t > 15)\n",
    "    \"\"\"\n",
    "    humidity_p = humid_detector(world)\n",
    "    temp_mu, temp_sigma = temperature_predictor(world)\n",
    "    \n",
    "    # Create distributions\n",
    "    humidity_dist = binomial(1, humidity_p)\n",
    "    temperature_dist = fromDensityFunction(\n",
    "        lambda x: norm.pdf(x, temp_mu, temp_sigma)\n",
    "    )\n",
    "    \n",
    "    # The monadic computation: humidity >>= (λh -> temperature >>= (λt -> unit(condition(h,t))))\n",
    "    return humidity_dist.bind(\n",
    "        lambda h: temperature_dist.bind(\n",
    "            lambda t: GiryMonad.unit(\n",
    "                1.0 if is_good_weather(h, t) else 0.0\n",
    "            )\n",
    "        )\n",
    "    )\n"
   ]
  },
  {
   "cell_type": "markdown",
   "metadata": {},
   "source": [
    "## Test the Monadic Implementation\n"
   ]
  },
  {
   "cell_type": "code",
   "execution_count": 4,
   "metadata": {},
   "outputs": [
    {
     "name": "stdout",
     "output_type": "stream",
     "text": [
      "🔍 MONADIC WEATHER PREDICTION\n",
      "==================================================\n",
      "The monadic approach:\n",
      "  result = humidity_dist.bind(λh -> temperature_dist.bind(λt -> unit(condition(h,t))))\n",
      "This automatically handles all the probabilistic integration!\n",
      "\n",
      "=============== WORLD: beach_day ===============\n",
      "Neural predictions: h~Bernoulli(0.149), t~N(26.8,4.5²)\n",
      "P(good_weather) = 0.847301\n",
      "Theoretical:    0.847301\n",
      "Difference:     2.00e-15\n",
      "\n",
      "=============== WORLD: mountain_winter ===============\n",
      "Neural predictions: h~Bernoulli(0.766), t~N(14.5,6.1²)\n",
      "P(good_weather) = 0.116132\n",
      "Theoretical:    0.116132\n",
      "Difference:     2.64e-16\n",
      "\n",
      "=============== WORLD: desert_noon ===============\n",
      "Neural predictions: h~Bernoulli(0.445), t~N(-9.0,1.8²)\n",
      "P(good_weather) = 0.445488\n",
      "Theoretical:    0.445488\n",
      "Difference:     3.11e-14\n",
      "\n",
      "Perfect agreement! The Giry monad handles the complex integration automatically!\n"
     ]
    }
   ],
   "source": [
    "# Test the monadic weather prediction\n",
    "print(\"🔍 MONADIC WEATHER PREDICTION\")\n",
    "print(\"=\" * 50)\n",
    "\n",
    "test_worlds = [\"beach_day\", \"mountain_winter\", \"desert_noon\"]\n",
    "\n",
    "print(\"The monadic approach:\")\n",
    "print(\"  result = humidity_dist.bind(λh -> temperature_dist.bind(λt -> unit(condition(h,t))))\")\n",
    "print(\"This automatically handles all the probabilistic integration!\\n\")\n",
    "\n",
    "results = {}\n",
    "for world in test_worlds:\n",
    "    print(f\"{'='*15} WORLD: {world} {'='*15}\")\n",
    "    \n",
    "    # Test the clean monadic version \n",
    "    weather_dist = good_weather_query(world)\n",
    "    prob_good_weather = integrate(lambda x: x, weather_dist.value)\n",
    "    results[world] = prob_good_weather\n",
    "    \n",
    "    # Show what's happening\n",
    "    humidity_p = humid_detector(world)\n",
    "    temp_mu, temp_sigma = temperature_predictor(world)\n",
    "    print(f\"Neural predictions: h~Bernoulli({humidity_p:.3f}), t~N({temp_mu:.1f},{temp_sigma:.1f}²)\")\n",
    "    print(f\"P(good_weather) = {prob_good_weather:.6f}\")\n",
    "    \n",
    "    # Show the theoretical calculation for comparison\n",
    "    prob_temp_less_0 = norm.cdf((0 - temp_mu) / temp_sigma)\n",
    "    prob_temp_greater_15 = 1 - norm.cdf((15 - temp_mu) / temp_sigma)\n",
    "    theoretical = humidity_p * prob_temp_less_0 + (1 - humidity_p) * prob_temp_greater_15\n",
    "    \n",
    "    print(f\"Theoretical:    {theoretical:.6f}\")\n",
    "    print(f\"Difference:     {abs(prob_good_weather - theoretical):.2e}\")\n",
    "    print()\n",
    "\n",
    "print(\"Perfect agreement! The Giry monad handles the complex integration automatically!\")\n"
   ]
  },
  {
   "cell_type": "markdown",
   "metadata": {},
   "source": [
    "## Summary: Monadic Weather Prediction\n",
    "\n",
    "This focused implementation demonstrates the key aspects of the mULLER framework:\n",
    "\n",
    "### **What We've Implemented:**\n",
    "\n",
    "1. **Neural Network Simulators**: `humid_detector` and `temperature_predictor` functions\n",
    "2. **Proper Monadic Composition**: Using `bind` operations for sequential probabilistic computation\n",
    "3. **Perfect Accuracy**: Monadic results match theory to machine precision\n",
    "\n",
    "### **Key Monadic Insights:**\n",
    "\n",
    "- **Sequential Composition**: `bind` chains computations where later steps depend on earlier results\n",
    "- **Automatic Integration**: The monad handles measure-theoretic integration automatically  \n",
    "- **Clean Code**: The monadic pattern produces readable, composable code\n",
    "\n",
    "### **The Pattern:**\n",
    "\n",
    "```python\n",
    "result = humidity_dist.bind(\n",
    "    lambda h: temperature_dist.bind(\n",
    "        lambda t: GiryMonad.unit(condition(h, t))\n",
    "    )\n",
    ")\n",
    "```\n",
    "\n",
    "**This demonstrates that the Giry monad provides a practical, mathematically sound foundation for neuro-symbolic reasoning as described in the mULLER paper.**\n"
   ]
  }
 ],
 "metadata": {
  "kernelspec": {
   "display_name": ".venv",
   "language": "python",
   "name": "python3"
  },
  "language_info": {
   "codemirror_mode": {
    "name": "ipython",
    "version": 3
   },
   "file_extension": ".py",
   "mimetype": "text/x-python",
   "name": "python",
   "nbconvert_exporter": "python",
   "pygments_lexer": "ipython3",
   "version": "3.13.5"
  }
 },
 "nbformat": 4,
 "nbformat_minor": 4
}
